{
 "metadata": {
  "language_info": {
   "codemirror_mode": {
    "name": "ipython",
    "version": 3
   },
   "file_extension": ".py",
   "mimetype": "text/x-python",
   "name": "python",
   "nbconvert_exporter": "python",
   "pygments_lexer": "ipython3",
   "version": "3.7.9-final"
  },
  "orig_nbformat": 2,
  "kernelspec": {
   "name": "python3",
   "display_name": "Python 3",
   "language": "python"
  }
 },
 "nbformat": 4,
 "nbformat_minor": 2,
 "cells": [
  {
   "source": [
    "# Python Slice"
   ],
   "cell_type": "markdown",
   "metadata": {}
  },
  {
   "source": [
    "## Slice copy behavior\n",
    "Python slice will create a reference that point to the previous location of the list. \n",
    " "
   ],
   "cell_type": "markdown",
   "metadata": {}
  },
  {
   "cell_type": "code",
   "execution_count": 11,
   "metadata": {},
   "outputs": [
    {
     "output_type": "stream",
     "name": "stdout",
     "text": [
      "ID of a is 140494437578864\nEach element in a is [4466082480, 4466082512, 4466082544]\n"
     ]
    }
   ],
   "source": [
    "a = [1, 2, 3]\n",
    "print(f'ID of a is {id(a)}')\n",
    "print(f'Each element in a is {list(map(id, a))}')"
   ]
  },
  {
   "cell_type": "code",
   "execution_count": 12,
   "metadata": {},
   "outputs": [
    {
     "output_type": "stream",
     "name": "stdout",
     "text": [
      "ID of b is 140494437378960\nEach element in a is [4466082512, 4466082544]\n"
     ]
    }
   ],
   "source": [
    "# this create reference b variable that point to a list location\n",
    "b = a[1:]\n",
    "print(f'ID of b is {id(b)}')\n",
    "print(f'Each element in a is {list(map(id, b))}')"
   ]
  },
  {
   "cell_type": "code",
   "execution_count": 13,
   "metadata": {},
   "outputs": [
    {
     "output_type": "stream",
     "name": "stdout",
     "text": [
      "ID of b is 140494434385744\nEach element in a is [4466082480, 4466082512, 4466082544]\n"
     ]
    }
   ],
   "source": [
    "# Create variable c and point torward a\n",
    "c = a[:]\n",
    "print(f'ID of b is {id(c)}')\n",
    "print(f'Each element in a is {list(map(id, c))}')"
   ]
  },
  {
   "cell_type": "code",
   "execution_count": 14,
   "metadata": {},
   "outputs": [],
   "source": [
    "# Here we change"
   ]
  },
  {
   "source": [
    "Here we test the mutable object (dictionary)"
   ],
   "cell_type": "markdown",
   "metadata": {}
  },
  {
   "cell_type": "code",
   "execution_count": 15,
   "metadata": {},
   "outputs": [
    {
     "output_type": "stream",
     "name": "stdout",
     "text": [
      "ID of a is 140494424164784\nEach element in a is [140494436548512, 140494436545712]\n"
     ]
    }
   ],
   "source": [
    "x = [\n",
    "        {\n",
    "            'name': 'Teng',\n",
    "            'age': 27\n",
    "        },\n",
    "        {\n",
    "            'name': 'Shawn',\n",
    "            'age': 26\n",
    "        }\n",
    "]\n",
    "print(f'ID of a is {id(x)}')\n",
    "print(f'Each element in a is {list(map(id, x))}')"
   ]
  },
  {
   "cell_type": "code",
   "execution_count": 16,
   "metadata": {},
   "outputs": [
    {
     "output_type": "stream",
     "name": "stdout",
     "text": [
      "ID of b is 140494437382496\nEach element in a is [140494436545712]\n"
     ]
    }
   ],
   "source": [
    "# this create reference y variable that point to x list location\n",
    "y = x[1:]\n",
    "print(f'ID of b is {id(y)}')\n",
    "print(f'Each element in a is {list(map(id, y))}')"
   ]
  },
  {
   "cell_type": "code",
   "execution_count": 17,
   "metadata": {},
   "outputs": [
    {
     "output_type": "stream",
     "name": "stdout",
     "text": [
      "{'name': 'Shawn', 'age': 29}\n"
     ]
    }
   ],
   "source": [
    "# Here we change the mutable object\n",
    "x[1]['age'] = 29\n",
    "\n",
    "# check if the y object is change\n",
    "print(y[0])"
   ]
  },
  {
   "source": [
    "## Note\n",
    "Reference itself is copied and each has it's own overhead "
   ],
   "cell_type": "markdown",
   "metadata": {}
  },
  {
   "cell_type": "code",
   "execution_count": 19,
   "metadata": {},
   "outputs": [
    {
     "output_type": "stream",
     "name": "stdout",
     "text": [
      "len: 0\nsize: 72\nlen: 1\nsize: 80\nlen: 2\nsize: 88\n"
     ]
    }
   ],
   "source": [
    "for i in range(len(a)):\n",
    "    z = a[:i]\n",
    "    print('len: {}'.format(len(z)))\n",
    "    print('size: {}'.format(sys.getsizeof(z)))"
   ]
  },
  {
   "source": [
    "## Reference\n",
    "- https://docs.python.org/3/tutorial/introduction.html\n",
    "- https://stackoverflow.com/questions/5131538/slicing-a-list-in-python-without-generating-a-copy\n"
   ],
   "cell_type": "markdown",
   "metadata": {}
  }
 ]
}